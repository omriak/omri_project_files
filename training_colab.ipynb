{
  "nbformat": 4,
  "nbformat_minor": 0,
  "metadata": {
    "colab": {
      "name": "training_colab.ipynb",
      "provenance": [],
      "collapsed_sections": [],
      "include_colab_link": true
    },
    "kernelspec": {
      "display_name": "Python 3",
      "name": "python3"
    },
    "accelerator": "GPU"
  },
  "cells": [
    {
      "cell_type": "markdown",
      "metadata": {
        "id": "view-in-github",
        "colab_type": "text"
      },
      "source": [
        "<a href=\"https://colab.research.google.com/github/omriak/omri_project_files/blob/main/training_colab.ipynb\" target=\"_parent\"><img src=\"https://colab.research.google.com/assets/colab-badge.svg\" alt=\"Open In Colab\"/></a>"
      ]
    },
    {
      "cell_type": "markdown",
      "metadata": {
        "id": "p8WHkQPLBapL"
      },
      "source": [
        "<a href=\"https://github.com/omriak/omri_project_files/blob/main/training_colab.ipynb\" target=\"_parent\"><img src=\"https://colab.research.google.com/assets/colab-badge.svg\" alt=\"Open In Colab\"/></a>"
      ]
    },
    {
      "cell_type": "code",
      "metadata": {
        "colab": {
          "base_uri": "https://localhost:8080/"
        },
        "id": "owL_d1x9ujDL",
        "outputId": "fcba2d33-dd6a-45d5-bda9-ef85ee440c92"
      },
      "source": [
        "try:\n",
        "    from google.colab import drive\n",
        "    drive.mount('/content/drive', force_remount=True)\n",
        "    COLAB = True\n",
        "    print(\"Note: using Google CoLab\")\n",
        "    %tensorflow_version 2.x\n",
        "except:\n",
        "    print(\"Note: not using Google CoLab\")\n",
        "    COLAB = False"
      ],
      "execution_count": null,
      "outputs": [
        {
          "output_type": "stream",
          "name": "stdout",
          "text": [
            "Mounted at /content/drive\n",
            "Note: using Google CoLab\n"
          ]
        }
      ]
    },
    {
      "cell_type": "code",
      "metadata": {
        "id": "epGjszRPvGLd"
      },
      "source": [
        "import tensorflow as tf\n",
        "import tensorflow.keras as keras\n",
        "from tensorflow.keras.layers import Input, Reshape, Dropout, Dense, Resizing\n",
        "from tensorflow.keras.layers import Flatten, BatchNormalization\n",
        "from tensorflow.keras.layers import Activation, ZeroPadding2D\n",
        "from tensorflow.keras.layers import LeakyReLU\n",
        "from tensorflow.keras.layers import UpSampling2D, Conv2D\n",
        "from tensorflow.keras.models import Sequential, Model, load_model\n",
        "from tensorflow.keras.optimizers import Adam\n",
        "import numpy as np\n",
        "from PIL import Image\n",
        "from tqdm import tqdm\n",
        "import os \n",
        "import time\n",
        "import matplotlib.pyplot as plt\n",
        "tf.config.run_functions_eagerly(True)"
      ],
      "execution_count": null,
      "outputs": []
    },
    {
      "cell_type": "code",
      "metadata": {
        "colab": {
          "base_uri": "https://localhost:8080/"
        },
        "id": "PDrm_PsBvHLD",
        "outputId": "734c3f56-7d77-4765-9aac-78fb280aec31"
      },
      "source": [
        "def upsample_100(data):\n",
        "    current_N = np.shape(data)\n",
        "    new_data = np.zeros(shape=(100,current_N[1],current_N[2]))\n",
        "    for i in range(0,100):\n",
        "        new_data[i,:,:] = data[int(np.floor((current_N[0]*i)/100)),:,:]\n",
        "    return new_data\n",
        "\n",
        "def DFS():\n",
        "    DFS_indexlist = np.array([2, 21, 9, 10,  11,  12, 25,  12,  24,  12,  11, 10, 9,\n",
        "                             21, 3, 4, 3, 21, 5, 6, 7, 8, 23, 8, 22, 8, 7, 6, 5, 21,\n",
        "                             2, 1, 13, 14, 15, 16, 15, 14, 13, 1, 17, 18, 19, 20, 19,\n",
        "                             18, 17, 1, 2])\n",
        "    DFS_indexlist = DFS_indexlist-1\n",
        "    return DFS_indexlist\n",
        "\n",
        "# Nicely formatted time string\n",
        "\n",
        "def hms_string(sec_elapsed):\n",
        "    h = int(sec_elapsed / (60 * 60))\n",
        "    m = int((sec_elapsed % (60 * 60)) / 60)\n",
        "    s = sec_elapsed % 60\n",
        "    return \"{}:{:>02}:{:>05.2f}\".format(h, m, s)\n",
        "\n",
        "# paths and variables\n",
        "# main path:\n",
        "path_folder = '/content/drive/MyDrive/Project_OmriAkrish/project_code_files/training_data'\n",
        "\n",
        "# action folder:\n",
        "# only one action.\n",
        "action_folder = 'A001'  \n",
        "\n",
        "# file_name='S001C001P001R002A001.skeleton.npy' example.\n",
        "\n",
        "\n",
        "DATA_PATH=os.path.join(path_folder,action_folder)\n",
        "DATA_PATH_A=os.path.join(path_folder)\n",
        "print(f\"your data path: {DATA_PATH}\")\n",
        "\n",
        "#loading the training data.\n",
        "training_binary_path = os.path.join(DATA_PATH_A,f'training_data_arrange_{action_folder}.npy')\n",
        "print(training_binary_path)"
      ],
      "execution_count": null,
      "outputs": [
        {
          "output_type": "stream",
          "name": "stdout",
          "text": [
            "your data path: /content/drive/MyDrive/Project_OmriAkrish/project_code_files/training_data/A001\n",
            "/content/drive/MyDrive/Project_OmriAkrish/project_code_files/training_data/training_data_arrange_A001.npy\n"
          ]
        }
      ]
    },
    {
      "cell_type": "code",
      "metadata": {
        "colab": {
          "base_uri": "https://localhost:8080/"
        },
        "id": "DkP4z6QfvoI4",
        "outputId": "768a5113-773d-4318-9c0c-049e0cd61456"
      },
      "source": [
        "print(\"Loading previous training pickle...\")\n",
        "training_data = np.load(training_binary_path)"
      ],
      "execution_count": null,
      "outputs": [
        {
          "output_type": "stream",
          "name": "stdout",
          "text": [
            "Loading previous training pickle...\n"
          ]
        }
      ]
    },
    {
      "cell_type": "code",
      "metadata": {
        "id": "rFwGablGxMgV"
      },
      "source": [
        "def build_image_resizer(height,width):\n",
        "    model = Sequential()\n",
        "    model.add(Resizing(64, 64, interpolation=\"bilinear\" , input_shape=(height,width,3)))\n",
        "    return model\n",
        "\n",
        "def build_generator(seed_size):\n",
        "    # seed_size is z+c where c is the class sagment\n",
        "    model = Sequential()\n",
        "    \n",
        "    #input layer\n",
        "    model.add(Dense(4*4*512,activation=\"relu\",input_dim=seed_size)) \n",
        "    model.add(Reshape((4,4,512)))\n",
        "\n",
        "    # Mid CNN layer\n",
        "    model.add(UpSampling2D(size=2,interpolation = 'bilinear'))\n",
        "    model.add(Conv2D(512,kernel_size=(3,3),strides = (1, 1),padding=\"same\",use_bias = False))\n",
        "    model.add(BatchNormalization(epsilon=10**-5,momentum=0.1))\n",
        "    model.add(Activation(\"relu\"))\n",
        "\n",
        "    model.add(UpSampling2D(size=(2, 2),interpolation = 'bilinear'))\n",
        "    model.add(Conv2D(256,kernel_size=(3,3),strides = (1, 1),padding=\"same\",use_bias = False))\n",
        "    model.add(BatchNormalization(epsilon=10**-5,momentum=0.1))\n",
        "    model.add(Activation(\"relu\"))\n",
        "    \n",
        "    model.add(UpSampling2D(size=(2, 2),interpolation = 'bilinear'))\n",
        "    model.add(Conv2D(128,kernel_size=(3,3),strides = (1, 1),padding=\"same\",use_bias = False))\n",
        "    model.add(BatchNormalization(epsilon=10**-5,momentum=0.1))\n",
        "    model.add(Activation(\"relu\"))\n",
        "    \n",
        "    model.add(UpSampling2D(size=(2, 2),interpolation = 'bilinear'))\n",
        "    model.add(Conv2D(64,kernel_size=(3,3),strides = (1, 1),padding=\"same\",use_bias = False))\n",
        "    model.add(BatchNormalization(epsilon=10**-5,momentum=0.1))\n",
        "    model.add(Activation(\"relu\"))\n",
        "    \n",
        "    # Final CNN layer\n",
        "    model.add(UpSampling2D(size=(2, 2),interpolation = 'bilinear'))\n",
        "    model.add(Conv2D(3,kernel_size=(3,3),strides = (1, 1),padding=\"same\",use_bias = False))\n",
        "    model.add(Activation(\"tanh\"))\n",
        "    model.add(Resizing(64, 64, interpolation=\"bilinear\" , input_shape=(128,128,3)))\n",
        "    return model\n",
        "\n",
        "\n",
        "def build_discriminator(image_shape):\n",
        "    model = Sequential()\n",
        "    \n",
        "    #input layer first using resizer\n",
        "    model.add(Conv2D(64, kernel_size=(4,4), strides=(2,2), input_shape=image_shape, padding=\"same\",use_bias = False))\n",
        "    model.add(LeakyReLU(alpha=0.2))\n",
        "    \n",
        "    model.add(Conv2D(128, kernel_size=(4,4), strides=(2,2),padding=\"same\",use_bias = False))\n",
        "    model.add(BatchNormalization(epsilon=10**-5,momentum=0.1))\n",
        "    model.add(LeakyReLU(alpha=0.2))\n",
        "\n",
        "    model.add(Conv2D(256, kernel_size=(4,4), strides=(2,2),padding=\"same\",use_bias = False))\n",
        "    model.add(BatchNormalization(epsilon=10**-5,momentum=0.1))\n",
        "    model.add(LeakyReLU(alpha=0.2))\n",
        "    \n",
        "    model.add(Conv2D(512, kernel_size=(4,4), strides=(2,2),padding=\"same\",use_bias = False))\n",
        "    model.add(BatchNormalization(epsilon=10**-5,momentum=0.1))\n",
        "    model.add(LeakyReLU(alpha=0.2))\n",
        "    \n",
        "    model.add(Flatten())\n",
        "    model.add(Dense(1, activation='sigmoid'))\n",
        "    return model"
      ],
      "execution_count": null,
      "outputs": []
    },
    {
      "cell_type": "code",
      "metadata": {
        "colab": {
          "base_uri": "https://localhost:8080/"
        },
        "id": "de_y6eHyxcxh",
        "outputId": "fd538833-63a8-4bce-fab2-527bc30622a2"
      },
      "source": [
        "generator = build_generator(106)\n",
        "discriminator = build_discriminator((64,64,9))\n",
        "resizer = build_image_resizer(100,49)\n",
        "Model.summary(resizer)\n",
        "Model.summary(generator)\n",
        "Model.summary(discriminator)"
      ],
      "execution_count": null,
      "outputs": [
        {
          "output_type": "stream",
          "name": "stdout",
          "text": [
            "Model: \"sequential_2\"\n",
            "_________________________________________________________________\n",
            " Layer (type)                Output Shape              Param #   \n",
            "=================================================================\n",
            " resizing_1 (Resizing)       (None, 64, 64, 3)         0         \n",
            "                                                                 \n",
            "=================================================================\n",
            "Total params: 0\n",
            "Trainable params: 0\n",
            "Non-trainable params: 0\n",
            "_________________________________________________________________\n",
            "Model: \"sequential\"\n",
            "_________________________________________________________________\n",
            " Layer (type)                Output Shape              Param #   \n",
            "=================================================================\n",
            " dense (Dense)               (None, 8192)              876544    \n",
            "                                                                 \n",
            " reshape (Reshape)           (None, 4, 4, 512)         0         \n",
            "                                                                 \n",
            " up_sampling2d (UpSampling2D  (None, 8, 8, 512)        0         \n",
            " )                                                               \n",
            "                                                                 \n",
            " conv2d (Conv2D)             (None, 8, 8, 512)         2359296   \n",
            "                                                                 \n",
            " batch_normalization (BatchN  (None, 8, 8, 512)        2048      \n",
            " ormalization)                                                   \n",
            "                                                                 \n",
            " activation (Activation)     (None, 8, 8, 512)         0         \n",
            "                                                                 \n",
            " up_sampling2d_1 (UpSampling  (None, 16, 16, 512)      0         \n",
            " 2D)                                                             \n",
            "                                                                 \n",
            " conv2d_1 (Conv2D)           (None, 16, 16, 256)       1179648   \n",
            "                                                                 \n",
            " batch_normalization_1 (Batc  (None, 16, 16, 256)      1024      \n",
            " hNormalization)                                                 \n",
            "                                                                 \n",
            " activation_1 (Activation)   (None, 16, 16, 256)       0         \n",
            "                                                                 \n",
            " up_sampling2d_2 (UpSampling  (None, 32, 32, 256)      0         \n",
            " 2D)                                                             \n",
            "                                                                 \n",
            " conv2d_2 (Conv2D)           (None, 32, 32, 128)       294912    \n",
            "                                                                 \n",
            " batch_normalization_2 (Batc  (None, 32, 32, 128)      512       \n",
            " hNormalization)                                                 \n",
            "                                                                 \n",
            " activation_2 (Activation)   (None, 32, 32, 128)       0         \n",
            "                                                                 \n",
            " up_sampling2d_3 (UpSampling  (None, 64, 64, 128)      0         \n",
            " 2D)                                                             \n",
            "                                                                 \n",
            " conv2d_3 (Conv2D)           (None, 64, 64, 64)        73728     \n",
            "                                                                 \n",
            " batch_normalization_3 (Batc  (None, 64, 64, 64)       256       \n",
            " hNormalization)                                                 \n",
            "                                                                 \n",
            " activation_3 (Activation)   (None, 64, 64, 64)        0         \n",
            "                                                                 \n",
            " up_sampling2d_4 (UpSampling  (None, 128, 128, 64)     0         \n",
            " 2D)                                                             \n",
            "                                                                 \n",
            " conv2d_4 (Conv2D)           (None, 128, 128, 3)       1728      \n",
            "                                                                 \n",
            " activation_4 (Activation)   (None, 128, 128, 3)       0         \n",
            "                                                                 \n",
            " resizing (Resizing)         (None, 64, 64, 3)         0         \n",
            "                                                                 \n",
            "=================================================================\n",
            "Total params: 4,789,696\n",
            "Trainable params: 4,787,776\n",
            "Non-trainable params: 1,920\n",
            "_________________________________________________________________\n",
            "Model: \"sequential_1\"\n",
            "_________________________________________________________________\n",
            " Layer (type)                Output Shape              Param #   \n",
            "=================================================================\n",
            " conv2d_5 (Conv2D)           (None, 32, 32, 64)        9216      \n",
            "                                                                 \n",
            " leaky_re_lu (LeakyReLU)     (None, 32, 32, 64)        0         \n",
            "                                                                 \n",
            " conv2d_6 (Conv2D)           (None, 16, 16, 128)       131072    \n",
            "                                                                 \n",
            " batch_normalization_4 (Batc  (None, 16, 16, 128)      512       \n",
            " hNormalization)                                                 \n",
            "                                                                 \n",
            " leaky_re_lu_1 (LeakyReLU)   (None, 16, 16, 128)       0         \n",
            "                                                                 \n",
            " conv2d_7 (Conv2D)           (None, 8, 8, 256)         524288    \n",
            "                                                                 \n",
            " batch_normalization_5 (Batc  (None, 8, 8, 256)        1024      \n",
            " hNormalization)                                                 \n",
            "                                                                 \n",
            " leaky_re_lu_2 (LeakyReLU)   (None, 8, 8, 256)         0         \n",
            "                                                                 \n",
            " conv2d_8 (Conv2D)           (None, 4, 4, 512)         2097152   \n",
            "                                                                 \n",
            " batch_normalization_6 (Batc  (None, 4, 4, 512)        2048      \n",
            " hNormalization)                                                 \n",
            "                                                                 \n",
            " leaky_re_lu_3 (LeakyReLU)   (None, 4, 4, 512)         0         \n",
            "                                                                 \n",
            " flatten (Flatten)           (None, 8192)              0         \n",
            "                                                                 \n",
            " dense_1 (Dense)             (None, 1)                 8193      \n",
            "                                                                 \n",
            "=================================================================\n",
            "Total params: 2,773,505\n",
            "Trainable params: 2,771,713\n",
            "Non-trainable params: 1,792\n",
            "_________________________________________________________________\n"
          ]
        }
      ]
    },
    {
      "cell_type": "code",
      "metadata": {
        "id": "IL2fd0s8xhfR"
      },
      "source": [
        "#traning module\n",
        "cross_entropy = tf.keras.losses.BinaryCrossentropy()\n",
        "\n",
        "def discriminator_loss(real_output, fake_output):\n",
        "    real_loss = cross_entropy(tf.ones_like(real_output), real_output)\n",
        "    fake_loss = cross_entropy(tf.zeros_like(fake_output), fake_output)\n",
        "    total_loss = real_loss + fake_loss\n",
        "    return total_loss\n",
        "\n",
        "def generator_loss(fake_output):\n",
        "    return cross_entropy(tf.ones_like(fake_output), fake_output)\n",
        "\n",
        "def add_class(images):\n",
        "    images = images.numpy()\n",
        "    s = images.shape\n",
        "    zero = np.zeros((s[0], s[1], s[2], 5))  \n",
        "    one = np.ones((s[0], s[1], s[2], 1)) \n",
        "    class1 = np.append(zero, one, axis=3)\n",
        "    return  np.append(images, class1, axis=3)\n",
        "    \n",
        "\n",
        "generator_optimizer = tf.keras.optimizers.Adam(1.5e-4,0.5)\n",
        "discriminator_optimizer = tf.keras.optimizers.Adam(1.5e-4,0.5)\n",
        "\n",
        "# Notice the use of `tf.function`\n",
        "# This annotation causes the function to be \"compiled\".\n",
        "@tf.function\n",
        "def train_step(images,seed):\n",
        "    generator_resizer = build_image_resizer(128,128)\n",
        "    \n",
        "    with tf.GradientTape() as gen_tape, tf.GradientTape() as disc_tape: \n",
        "        generated_images = generator(seed, training=True)\n",
        "        generated_images = tf.concat([generated_images,tf.zeros((generated_images.shape[0],64,64,5)), tf.ones((generated_images.shape[0],64,64,1))], 3)\n",
        "        #generated_images = generator_resizer(generated_images, training=False)\n",
        "        #proto_tensor = tf.make_tensor_proto(generated_images)\n",
        "        #generated_images = tf.make_ndarray(proto_tensor)\n",
        "        \n",
        "        real_output = discriminator(images, training=True)\n",
        "        fake_output = discriminator(generated_images, training=True)\n",
        "    \n",
        "        gen_loss = generator_loss(fake_output)\n",
        "        disc_loss = discriminator_loss(real_output, fake_output)\n",
        "\n",
        "        gradients_of_generator = gen_tape.gradient(gen_loss, generator.trainable_variables)\n",
        "        gradients_of_discriminator = disc_tape.gradient(disc_loss, discriminator.trainable_variables)\n",
        "        generator_optimizer.apply_gradients(zip(gradients_of_generator, generator.trainable_variables),\n",
        "    experimental_aggregate_gradients=False)\n",
        "        discriminator_optimizer.apply_gradients(zip(gradients_of_discriminator, discriminator.trainable_variables),\n",
        "    experimental_aggregate_gradients=False)\n",
        "    return gen_loss,disc_loss\n",
        "\n",
        "def train(dataset, epochs):\n",
        "    seed = np.random.normal(0, 1,100)\n",
        "    c = np.asarray((0,0,0,0,0,1))\n",
        "    fixed_seed = np.append(seed,c)\n",
        "    \n",
        "    seed = np.random.normal(0, 1,(BATCH_SIZE,100))\n",
        "    s = seed.shape\n",
        "    zero = np.zeros((s[0], 5))  \n",
        "    one = np.ones((s[0], 1)) \n",
        "    class1 = np.append(zero, one, axis=1)\n",
        "    seed = np.append(seed, class1, axis=1)\n",
        "    \n",
        "    \n",
        "    start = time.time()\n",
        "\n",
        "    gen_loss_total_list = []\n",
        "    disc_loss_total_list = []\n",
        "\n",
        "    for epoch in range(epochs):\n",
        "        epoch_start = time.time()\n",
        "\n",
        "        gen_loss_list = []\n",
        "        disc_loss_list = []\n",
        "        #i=0\n",
        "        for image_batch in dataset:\n",
        "            t = train_step(image_batch,seed)\n",
        "            gen_loss_list.append(t[0])\n",
        "            disc_loss_list.append(t[1])\n",
        "            #i = i+1\n",
        "            #print('image_batch'+str(i))\n",
        "\n",
        "        g_loss = sum(gen_loss_list) / len(gen_loss_list)\n",
        "        d_loss = sum(disc_loss_list) / len(disc_loss_list)\n",
        "\n",
        "        epoch_elapsed = time.time()-epoch_start\n",
        "        print (f'Epoch {epoch+1}, gen loss={g_loss},disc loss={d_loss},'f' {hms_string(epoch_elapsed)}')\n",
        "        #save_images(epoch,fixed_seed)\n",
        "\n",
        "        gen_loss_total_list.append(g_loss)\n",
        "        disc_loss_total_list.append(d_loss)\n",
        "        \n",
        "\n",
        "    elapsed = time.time()-start\n",
        "    print (f'Training time: {hms_string(elapsed)}')\n",
        "    return gen_loss_total_list , disc_loss_total_list\n",
        "\n"
      ],
      "execution_count": null,
      "outputs": []
    },
    {
      "cell_type": "code",
      "metadata": {
        "colab": {
          "base_uri": "https://localhost:8080/"
        },
        "id": "G1kaZGfQxloh",
        "outputId": "ae592530-2c0c-41fb-a4c9-ebb0b1f92f8f"
      },
      "source": [
        "training_data_r = resizer(training_data, training=False)\n",
        "print(training_data_r.shape)\n",
        "s = training_data_r.shape\n",
        "zero = np.zeros((s[0], s[1], s[2], 5))  \n",
        "one = np.ones((s[0], s[1], s[2], 1)) \n",
        "class1 = np.append(zero, one, axis=3)\n",
        "training_data_r1 = np.append(training_data_r, class1, axis=3)\n",
        "print(training_data_r1.shape)\n"
      ],
      "execution_count": null,
      "outputs": [
        {
          "output_type": "stream",
          "name": "stdout",
          "text": [
            "(939, 64, 64, 3)\n",
            "(939, 64, 64, 9)\n"
          ]
        }
      ]
    },
    {
      "cell_type": "code",
      "metadata": {
        "colab": {
          "base_uri": "https://localhost:8080/"
        },
        "id": "2OHuxJ0FxsZU",
        "outputId": "1df46c88-459d-44f8-bd6a-894c7f1259e3"
      },
      "source": [
        "EPOCHS = 500\n",
        "BATCH_SIZE = 32\n",
        "BUFFER_SIZE = 60000\n",
        "SEED_SIZE = 106\n",
        "# Batch and shuffle the data\n",
        "train_dataset = tf.data.Dataset.from_tensor_slices(training_data_r1).shuffle(BUFFER_SIZE).batch(BATCH_SIZE)\n",
        "#print(train_dataset.size)\n",
        "gen_loss , disc_loss = train(train_dataset, EPOCHS)\n"
      ],
      "execution_count": null,
      "outputs": [
        {
          "output_type": "stream",
          "name": "stdout",
          "text": [
            "Epoch 1, gen loss=3.7551496028900146,disc loss=0.8446266651153564, 0:00:09.72\n",
            "Epoch 2, gen loss=2.776024341583252,disc loss=1.1157974004745483, 0:00:10.32\n",
            "Epoch 3, gen loss=1.527224063873291,disc loss=1.3991087675094604, 0:00:09.53\n",
            "Epoch 4, gen loss=1.461297869682312,disc loss=1.2805317640304565, 0:00:09.51\n",
            "Epoch 5, gen loss=1.7452316284179688,disc loss=1.098896861076355, 0:00:09.50\n",
            "Epoch 6, gen loss=1.947054386138916,disc loss=0.9311749339103699, 0:00:09.50\n",
            "Epoch 7, gen loss=2.1480042934417725,disc loss=0.8776832222938538, 0:00:09.50\n",
            "Epoch 8, gen loss=1.8909461498260498,disc loss=0.8903980255126953, 0:00:09.51\n",
            "Epoch 9, gen loss=2.321946144104004,disc loss=0.666714072227478, 0:00:09.53\n",
            "Epoch 10, gen loss=2.4947166442871094,disc loss=0.6105053424835205, 0:00:09.48\n",
            "Epoch 11, gen loss=2.1881866455078125,disc loss=1.0539419651031494, 0:00:09.47\n",
            "Epoch 12, gen loss=2.0273053646087646,disc loss=0.6362478733062744, 0:00:09.48\n",
            "Epoch 13, gen loss=2.4559409618377686,disc loss=0.6433947682380676, 0:00:09.45\n",
            "Epoch 14, gen loss=2.4253854751586914,disc loss=0.6934596300125122, 0:00:09.45\n",
            "Epoch 15, gen loss=2.95041823387146,disc loss=0.485614150762558, 0:00:09.56\n",
            "Epoch 16, gen loss=3.2950873374938965,disc loss=0.3246305584907532, 0:00:09.45\n",
            "Epoch 17, gen loss=2.472212553024292,disc loss=1.0941517353057861, 0:00:09.45\n"
          ]
        }
      ]
    },
    {
      "cell_type": "code",
      "metadata": {
        "colab": {
          "base_uri": "https://localhost:8080/",
          "height": 279
        },
        "id": "v6XiVvsHoBj9",
        "outputId": "7cc37f63-6990-40e7-982b-105ec7298d9b"
      },
      "source": [
        "plt.plot(np.linspace(1,len(gen_loss),len(gen_loss)),gen_loss)\n",
        "plt.plot(np.linspace(1,len(disc_loss),len(disc_loss)),disc_loss)\n",
        "plt.legend([\"gen_loss\", \"disc_loss\"])\n",
        "plt.ylabel('Loss')\n",
        "plt.xlabel('Epoch')\n",
        "plt.show()"
      ],
      "execution_count": null,
      "outputs": [
        {
          "output_type": "display_data",
          "data": {
            "image/png": "[encoded data removed]",
            "text/plain": [
              "<Figure size 432x288 with 1 Axes>"
            ]
          },
          "metadata": {
            "needs_background": "light"
          }
        }
      ]
    },
    {
      "cell_type": "code",
      "metadata": {
        "colab": {
          "base_uri": "https://localhost:8080/"
        },
        "id": "FOdW8_tAQC8K",
        "outputId": "34912039-fa32-4d15-86ec-c22113a0ed48"
      },
      "source": [
        "action_folder = 'training_data'\n",
        "DATA_PATH = '/content/drive/MyDrive/Project_OmriAkrish/project_code_files/training_data'\n",
        "DATA_PATH=os.path.join(DATA_PATH,action_folder)\n",
        "print(DATA_PATH)\n",
        "generator.save(os.path.join(DATA_PATH,\"generator1.h5\"))\n",
        "discriminator.save(os.path.join(DATA_PATH,\"discriminator1.h5\"))"
      ],
      "execution_count": null,
      "outputs": [
        {
          "output_type": "stream",
          "name": "stdout",
          "text": [
            "/content/drive/MyDrive/Project_OmriAkrish/project_code_files/training_data/training_data\n",
            "WARNING:tensorflow:Compiled the loaded model, but the compiled metrics have yet to be built. `model.compile_metrics` will be empty until you train or evaluate the model.\n",
            "WARNING:tensorflow:Compiled the loaded model, but the compiled metrics have yet to be built. `model.compile_metrics` will be empty until you train or evaluate the model.\n"
          ]
        }
      ]
    },
    {
      "cell_type": "code",
      "metadata": {
        "colab": {
          "base_uri": "https://localhost:8080/",
          "height": 285
        },
        "id": "9OkOVE8b-sN8",
        "outputId": "f66bf814-b8a2-4f04-f547-a0271b2d9882"
      },
      "source": [
        "seed = np.random.normal(0, 1,100)\n",
        "c = np.asarray((0,0,0,0,0,1))\n",
        "fixed_seed = np.append(seed,c)\n",
        "generated_image = generator(np.expand_dims(fixed_seed, axis=0), training=False)\n",
        "\n",
        "plt.imshow(generated_image[0, :, :, 0])"
      ],
      "execution_count": null,
      "outputs": [
        {
          "output_type": "execute_result",
          "data": {
            "text/plain": [
              "<matplotlib.image.AxesImage at 0x7f5460119390>"
            ]
          },
          "metadata": {},
          "execution_count": 24
        },
        {
          "output_type": "display_data",
          "data": {
            "image/png": "[encoded data removed]",
            "text/plain": [
              "<Figure size 432x288 with 1 Axes>"
            ]
          },
          "metadata": {
            "needs_background": "light"
          }
        }
      ]
    },
    {
      "cell_type": "code",
      "metadata": {
        "colab": {
          "base_uri": "https://localhost:8080/",
          "height": 285
        },
        "id": "HLr1pUWR_rqe",
        "outputId": "035faab7-e894-4129-e159-775ac444625f"
      },
      "source": [
        "plt.imshow(training_data_r[2, :, :, 0])"
      ],
      "execution_count": null,
      "outputs": [
        {
          "output_type": "execute_result",
          "data": {
            "text/plain": [
              "<matplotlib.image.AxesImage at 0x7f5381c06ed0>"
            ]
          },
          "metadata": {},
          "execution_count": 20
        },
        {
          "output_type": "display_data",
          "data": {
            "image/png": "[encoded data removed]",
            "text/plain": [
              "<Figure size 432x288 with 1 Axes>"
            ]
          },
          "metadata": {
            "needs_background": "light"
          }
        }
      ]
    },
    {
      "cell_type": "code",
      "metadata": {
        "id": "Camdl637dt_f"
      },
      "source": [
        "jdjcvndjf djxnskd cjdnaksnd\n",
        "cjdnaksnd "
      ],
      "execution_count": null,
      "outputs": []
    }
  ]
}